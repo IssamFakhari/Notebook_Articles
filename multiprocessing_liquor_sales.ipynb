{
  "nbformat": 4,
  "nbformat_minor": 0,
  "metadata": {
    "colab": {
      "name": "multiprocessing_liquor_sales.ipynb",
      "provenance": [],
      "collapsed_sections": []
    },
    "kernelspec": {
      "name": "python3",
      "display_name": "Python 3"
    },
    "accelerator": "GPU"
  },
  "cells": [
    {
      "cell_type": "code",
      "metadata": {
        "id": "j2EPBf5xPnQF",
        "colab": {
          "base_uri": "https://localhost:8080/"
        },
        "outputId": "77866ad5-5d04-4ab4-e3b2-5b216fd56785"
      },
      "source": [
        "#Mount Google Drive with all Data to Google Colab\r\n",
        "from google.colab import drive\r\n",
        "drive.mount('/content/drive')"
      ],
      "execution_count": null,
      "outputs": [
        {
          "output_type": "stream",
          "text": [
            "Mounted at /content/drive\n"
          ],
          "name": "stdout"
        }
      ]
    },
    {
      "cell_type": "code",
      "metadata": {
        "id": "rt_kdJ1fQOfT",
        "colab": {
          "base_uri": "https://localhost:8080/"
        },
        "outputId": "936badcc-6ba5-4b75-9bc6-4976d45ceb24"
      },
      "source": [
        "!ls '/content/drive/My Drive/liquor_sales_data/'"
      ],
      "execution_count": null,
      "outputs": [
        {
          "output_type": "stream",
          "text": [
            "2012_sales.csv\t2014_sales.csv\t2016_sales.csv\t2018_sales.csv\t2020_sales.csv\n",
            "2013_sales.csv\t2015_sales.csv\t2017_sales.csv\t2019_sales.csv\n"
          ],
          "name": "stdout"
        }
      ]
    },
    {
      "cell_type": "code",
      "metadata": {
        "id": "xrRnErpjbY5m"
      },
      "source": [
        "# Importar librerias\r\n",
        "import pandas as pd\r\n",
        "import numpy as np\r\n",
        "import os \r\n",
        "from multiprocessing import Process, Queue\r\n",
        "import warnings\r\n",
        "#!pip install dataprep\r\n",
        "#from dataprep.eda import plot, plot_missing\r\n",
        "warnings.filterwarnings('ignore')"
      ],
      "execution_count": null,
      "outputs": []
    },
    {
      "cell_type": "code",
      "metadata": {
        "id": "o9p_EBe-b6lg"
      },
      "source": [
        "def process_file(file_name):\r\n",
        "    \"\"\"\r\n",
        "    Procesa la colección de datos liquor_sales_data/year_sales.csv, la cual\r\n",
        "    contiene el registro de ventas por año.\r\n",
        "\r\n",
        "    Returns:\r\n",
        "        (:obj:'dataframe'): dataframe con el registro de ventas\r\n",
        "    \"\"\"\r\n",
        "    \r\n",
        "    # Filtro de columnas de interes\r\n",
        "    usecols = ['Invoice/Item Number', 'Date', 'County Number',\r\n",
        "                   'Category Name', 'Bottle Volume (ml)', 'State Bottle Cost',\r\n",
        "                   'State Bottle Retail', 'Bottles Sold',\r\n",
        "                   'Sale (Dollars)', 'Volume Sold (Liters)']\r\n",
        "\r\n",
        "    # Carga datos, seleccion variables interes, indexar por fecha\r\n",
        "    return pd.read_csv(file_name, parse_dates=['Date'],\r\n",
        "                             usecols=usecols,\r\n",
        "                             index_col=['Date'],\r\n",
        "                             dtype={'County Number': 'str'}).sort_index()\r\n",
        "\r\n",
        "        \r\n",
        "\r\n",
        "\r\n",
        "def data_wrangling(file_name):\r\n",
        "    \"\"\"\r\n",
        "    Realiza preparación de datos\r\n",
        "        \r\n",
        "    Returns:\r\n",
        "        vendor (:obj: 'queue'): resultados de la preparación de datos para concatenar en \r\n",
        "                                un mismo dataframe\r\n",
        "    \"\"\"\r\n",
        "        \r\n",
        "    vendor = process_file(file_name)\r\n",
        "        \r\n",
        "    # Renombrar columnas\r\n",
        "    vendor.columns = ['invoice_line_no', 'county_no', 'category_name',\r\n",
        "                          'bottle_volume_ml', 'state_bottle_cost', 'state_bottle_retail',\r\n",
        "                          'sale_bottles', 'sale_dollars', 'sale_liters']\r\n",
        "\r\n",
        "        # Agrupar datos en categorias simples ('categor_name')\r\n",
        "    vendor['category_name'] = vendor['category_name'].astype(str).str.upper()\r\n",
        "    vendor.loc[vendor['category_name'].str.contains('WHISK', na=False), 'category_name'] = 'WHISKEY'\r\n",
        "    vendor.loc[vendor['category_name'].str.contains('VODK', na=False), 'category_name'] = 'VODKA'\r\n",
        "    vendor.loc[vendor['category_name'].str.contains('GIN', na=False), 'category_name'] = 'GIN'\r\n",
        "    vendor.loc[vendor['category_name'].str.contains('RUM', na=False), 'category_name'] = 'RUM'\r\n",
        "    vendor.loc[vendor['category_name'].str.contains('NAN', na=False), 'category_name'] = 'UNKNOWN'\r\n",
        "    searchfor = ['SCHNA', 'MALT', 'TEQU', 'LIQU', 'SHNAPP', 'PACKAG', 'COCKTAIL', 'ORDER', 'VAP', 'MEZCAL',\r\n",
        "                     'DELISTED']\r\n",
        "    vendor.loc[vendor['category_name'].str.contains('|'.join(searchfor), na=False), 'category_name'] = 'LIQUOR'\r\n",
        "\r\n",
        "        # Consolidad tamaño de la botella en 750ml, 1000ml, 1750ml o otros\r\n",
        "    vendor.loc[vendor['bottle_volume_ml'] == 750, 'bottle_volume_ml'] = '750ml'\r\n",
        "    vendor.loc[vendor['bottle_volume_ml'] == 1000, 'bottle_volume_ml'] = '1000ml'\r\n",
        "    vendor.loc[vendor['bottle_volume_ml'] == 1750, 'bottle_volume_ml'] = '1750ml'\r\n",
        "    vendor['bottle_volume_ml'].loc[(vendor['bottle_volume_ml'] != '750ml') &\r\n",
        "                                       (vendor['bottle_volume_ml'] != '1000ml') &\r\n",
        "                                       (vendor['bottle_volume_ml'] != '1750ml')] = 'other_ml'\r\n",
        "\r\n",
        "    return vendor\r\n",
        "    \r\n",
        "\r\n",
        "from multiprocessing import Pool\r\n",
        "if __name__ == '__main__':\r\n",
        "    path = '/content/drive/My Drive/liquor_sales_data/'\r\n",
        "    file_list = [str(path) + \"/\" + file_name for  file_name in os.listdir(path)]\r\n",
        "    \r\n",
        "    with Pool(processes=8) as pool:\r\n",
        "        df_list = pool.map(data_wrangling,file_list)\r\n",
        "        combined_df = pd.concat(df_list, ignore_index=False)"
      ],
      "execution_count": null,
      "outputs": []
    },
    {
      "cell_type": "code",
      "metadata": {
        "id": "M5UuLv2VcDE4",
        "colab": {
          "base_uri": "https://localhost:8080/"
        },
        "outputId": "f462fca6-6438-401e-d9c0-bb3264ef4a04"
      },
      "source": [
        "np.unique(combined_df.index.year)\r\n",
        "\r\n",
        "combined_df.shape\r\n",
        "\r\n",
        "#combined_df.to_csv('/content/drive/My Drive/liquor_sales_data/data_arima_cleaned.csv')\r\n",
        "combined_df.columns"
      ],
      "execution_count": null,
      "outputs": [
        {
          "output_type": "execute_result",
          "data": {
            "text/plain": [
              "Index(['invoice_line_no', 'county_no', 'category_name', 'bottle_volume_ml',\n",
              "       'state_bottle_cost', 'state_bottle_retail', 'sale_bottles',\n",
              "       'sale_dollars', 'sale_liters'],\n",
              "      dtype='object')"
            ]
          },
          "metadata": {
            "tags": []
          },
          "execution_count": 16
        }
      ]
    },
    {
      "cell_type": "code",
      "metadata": {
        "id": "6781b6AeC28H"
      },
      "source": [
        "combined_df.resample('M').mean().to_csv('/content/drive/My Drive/monthly_data_arima.csv')\r\n"
      ],
      "execution_count": null,
      "outputs": []
    }
  ]
}